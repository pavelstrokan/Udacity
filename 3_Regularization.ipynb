{
 "cells": [
  {
   "cell_type": "markdown",
   "metadata": {
    "colab_type": "text",
    "id": "kR-4eNdK6lYS"
   },
   "source": [
    "Deep Learning\n",
    "=============\n",
    "\n",
    "Assignment 3\n",
    "------------\n",
    "\n",
    "Previously in `2_fullyconnected.ipynb`, you trained a logistic regression and a neural network model.\n",
    "\n",
    "The goal of this assignment is to explore regularization techniques."
   ]
  },
  {
   "cell_type": "code",
   "execution_count": 1,
   "metadata": {
    "cellView": "both",
    "colab": {
     "autoexec": {
      "startup": false,
      "wait_interval": 0
     }
    },
    "colab_type": "code",
    "collapsed": true,
    "id": "JLpLa8Jt7Vu4"
   },
   "outputs": [],
   "source": [
    "# These are all the modules we'll be using later. Make sure you can import them\n",
    "# before proceeding further.\n",
    "from __future__ import print_function\n",
    "import numpy as np\n",
    "import tensorflow as tf\n",
    "from six.moves import cPickle as pickle"
   ]
  },
  {
   "cell_type": "markdown",
   "metadata": {
    "colab_type": "text",
    "id": "1HrCK6e17WzV"
   },
   "source": [
    "First reload the data we generated in `1_notmnist.ipynb`."
   ]
  },
  {
   "cell_type": "code",
   "execution_count": 2,
   "metadata": {
    "cellView": "both",
    "colab": {
     "autoexec": {
      "startup": false,
      "wait_interval": 0
     },
     "output_extras": [
      {
       "item_id": 1
      }
     ]
    },
    "colab_type": "code",
    "executionInfo": {
     "elapsed": 11777,
     "status": "ok",
     "timestamp": 1449849322348,
     "user": {
      "color": "",
      "displayName": "",
      "isAnonymous": false,
      "isMe": true,
      "permissionId": "",
      "photoUrl": "",
      "sessionId": "0",
      "userId": ""
     },
     "user_tz": 480
    },
    "id": "y3-cj1bpmuxc",
    "outputId": "e03576f1-ebbe-4838-c388-f1777bcc9873"
   },
   "outputs": [
    {
     "name": "stdout",
     "output_type": "stream",
     "text": [
      "Training set (200000, 28, 28) (200000,)\n",
      "Validation set (10000, 28, 28) (10000,)\n",
      "Test set (10000, 28, 28) (10000,)\n"
     ]
    }
   ],
   "source": [
    "pickle_file = '../../notMNIST.pickle'\n",
    "\n",
    "with open(pickle_file, 'rb') as f:\n",
    "    save = pickle.load(f)\n",
    "    \n",
    "    train_dataset = save['train_dataset']\n",
    "    train_labels = save['train_labels']\n",
    "    \n",
    "    valid_dataset = save['valid_dataset']\n",
    "    valid_labels = save['valid_labels']\n",
    "    \n",
    "    test_dataset = save['test_dataset']\n",
    "    test_labels = save['test_labels']\n",
    "    \n",
    "    del save  # hint to help gc free up memory\n",
    "    \n",
    "    print('Training set', train_dataset.shape, train_labels.shape)\n",
    "    print('Validation set', valid_dataset.shape, valid_labels.shape)\n",
    "    print('Test set', test_dataset.shape, test_labels.shape)"
   ]
  },
  {
   "cell_type": "markdown",
   "metadata": {
    "colab_type": "text",
    "id": "L7aHrm6nGDMB"
   },
   "source": [
    "Reformat into a shape that's more adapted to the models we're going to train:\n",
    "- data as a flat matrix,\n",
    "- labels as float 1-hot encodings."
   ]
  },
  {
   "cell_type": "code",
   "execution_count": 3,
   "metadata": {
    "cellView": "both",
    "colab": {
     "autoexec": {
      "startup": false,
      "wait_interval": 0
     },
     "output_extras": [
      {
       "item_id": 1
      }
     ]
    },
    "colab_type": "code",
    "executionInfo": {
     "elapsed": 11728,
     "status": "ok",
     "timestamp": 1449849322356,
     "user": {
      "color": "",
      "displayName": "",
      "isAnonymous": false,
      "isMe": true,
      "permissionId": "",
      "photoUrl": "",
      "sessionId": "0",
      "userId": ""
     },
     "user_tz": 480
    },
    "id": "IRSyYiIIGIzS",
    "outputId": "3f8996ee-3574-4f44-c953-5c8a04636582"
   },
   "outputs": [
    {
     "name": "stdout",
     "output_type": "stream",
     "text": [
      "Training set (200000, 784) (200000, 10)\n",
      "Validation set (10000, 784) (10000, 10)\n",
      "Test set (10000, 784) (10000, 10)\n"
     ]
    }
   ],
   "source": [
    "image_size = 28\n",
    "num_labels = 10\n",
    "\n",
    "def reformat(dataset, labels):\n",
    "    dataset = dataset.reshape((-1, image_size * image_size)).astype(np.float32)\n",
    "    # Map 1 to [0.0, 1.0, 0.0 ...], 2 to [0.0, 0.0, 1.0 ...]\n",
    "    labels = (np.arange(num_labels) == labels[:,None]).astype(np.float32)\n",
    "    return dataset, labels\n",
    "\n",
    "train_dataset, train_labels = reformat(train_dataset, train_labels)\n",
    "valid_dataset, valid_labels = reformat(valid_dataset, valid_labels)\n",
    "test_dataset, test_labels = reformat(test_dataset, test_labels)\n",
    "\n",
    "print('Training set', train_dataset.shape, train_labels.shape)\n",
    "print('Validation set', valid_dataset.shape, valid_labels.shape)\n",
    "print('Test set', test_dataset.shape, test_labels.shape)"
   ]
  },
  {
   "cell_type": "code",
   "execution_count": 4,
   "metadata": {
    "cellView": "both",
    "colab": {
     "autoexec": {
      "startup": false,
      "wait_interval": 0
     }
    },
    "colab_type": "code",
    "collapsed": true,
    "id": "RajPLaL_ZW6w"
   },
   "outputs": [],
   "source": [
    "def accuracy(predictions, labels):\n",
    "    return (100.0 * np.sum(np.argmax(predictions, 1) == np.argmax(labels, 1))\n",
    "            / predictions.shape[0])"
   ]
  },
  {
   "cell_type": "markdown",
   "metadata": {
    "colab_type": "text",
    "id": "sgLbUAQ1CW-1"
   },
   "source": [
    "---\n",
    "Problem 1\n",
    "---------\n",
    "\n",
    "Introduce and tune L2 regularization for both logistic and neural network models. Remember that L2 amounts to adding a penalty on the norm of the weights to the loss. In TensorFlow, you can compute the L2 loss for a tensor `t` using `nn.l2_loss(t)`. The right amount of regularization should improve your validation / test accuracy.\n",
    "\n",
    "---"
   ]
  },
  {
   "cell_type": "code",
   "execution_count": 14,
   "metadata": {},
   "outputs": [],
   "source": [
    "batch_size = 128\n",
    "\n",
    "graph = tf.Graph()\n",
    "with graph.as_default():\n",
    "    \n",
    "    train = tf.placeholder(tf.float32, shape=(batch_size, image_size * image_size))\n",
    "    labels = tf.placeholder(tf.float32, shape=(batch_size, num_labels))\n",
    "    \n",
    "    valid = tf.constant(valid_dataset)\n",
    "    test = tf.constant(test_dataset)\n",
    "    lmbda = tf.constant(0.001)\n",
    "\n",
    "    w1 = tf.Variable(tf.truncated_normal([image_size * image_size, num_labels]))\n",
    "    b1 = tf.Variable(tf.zeros([num_labels]))\n",
    "    \n",
    "    def model(data):\n",
    "        return tf.matmul(data, w1) + b1\n",
    "\n",
    "    logits = model(train)\n",
    "    loss = tf.reduce_mean(tf.nn.softmax_cross_entropy_with_logits(labels=labels, logits=logits)) \\\n",
    "           + lmbda * tf.nn.l2_loss(w1)\n",
    "\n",
    "    optimizer = tf.train.GradientDescentOptimizer(0.5).minimize(loss)\n",
    "\n",
    "    train_prediction = tf.nn.softmax(logits)\n",
    "    valid_prediction = tf.nn.softmax(model(valid))\n",
    "    test_prediction = tf.nn.softmax(model(test))"
   ]
  },
  {
   "cell_type": "code",
   "execution_count": 15,
   "metadata": {},
   "outputs": [
    {
     "name": "stdout",
     "output_type": "stream",
     "text": [
      "Initialized\n",
      "Minibatch loss at step 0: 18.543903\n",
      "Minibatch accuracy: 12.5%\n",
      "Minibatch loss at step 500: 3.245364\n",
      "Minibatch accuracy: 69.5%\n",
      "Minibatch loss at step 1000: 1.810586\n",
      "Minibatch accuracy: 80.5%\n",
      "Minibatch loss at step 1500: 1.302319\n",
      "Minibatch accuracy: 78.9%\n",
      "Minibatch loss at step 2000: 1.135504\n",
      "Minibatch accuracy: 75.8%\n",
      "Minibatch loss at step 2500: 0.783041\n",
      "Minibatch accuracy: 82.0%\n",
      "Minibatch loss at step 3000: 0.802799\n",
      "Minibatch accuracy: 82.8%\n",
      "Validation accuracy: 82.2%\n",
      "Test accuracy: 88.8%\n"
     ]
    }
   ],
   "source": [
    "nb_steps = 3001\n",
    "\n",
    "with tf.Session(graph=graph) as session:\n",
    "    tf.global_variables_initializer().run()\n",
    "    print(\"Initialized\")\n",
    "    for step in range(nb_steps):\n",
    "        offset = (step * batch_size) % (train_labels.shape[0] - batch_size)\n",
    "        \n",
    "        batch_data = train_dataset[offset:(offset + batch_size), :]\n",
    "        batch_labels = train_labels[offset:(offset + batch_size), :]\n",
    "        \n",
    "        feed_dict = {train : batch_data, labels : batch_labels}        \n",
    "        _, l, predictions = session.run([optimizer, loss, train_prediction], feed_dict=feed_dict)\n",
    "        if (step % 500 == 0):\n",
    "            print(\"Minibatch loss at step %d: %f\" % (step, l))\n",
    "            print(\"Minibatch accuracy: %.1f%%\" % accuracy(predictions, batch_labels))\n",
    "    print(\"Validation accuracy: %.1f%%\" % accuracy(valid_prediction.eval(), valid_labels))\n",
    "    print(\"Test accuracy: %.1f%%\" % accuracy(test_prediction.eval(), test_labels))"
   ]
  },
  {
   "cell_type": "markdown",
   "metadata": {
    "colab_type": "text",
    "id": "na8xX2yHZzNF"
   },
   "source": [
    "---\n",
    "Problem 2\n",
    "---------\n",
    "Let's demonstrate an extreme case of overfitting. Restrict your training data to just a few batches. What happens?\n",
    "\n",
    "---"
   ]
  },
  {
   "cell_type": "code",
   "execution_count": 16,
   "metadata": {},
   "outputs": [
    {
     "name": "stdout",
     "output_type": "stream",
     "text": [
      "Initialized\n",
      "Minibatch loss at step 0: 18.664249\n",
      "Minibatch accuracy: 12.5%\n",
      "Minibatch loss at step 500: 1.849532\n",
      "Minibatch accuracy: 100.0%\n",
      "Minibatch loss at step 1000: 1.140235\n",
      "Minibatch accuracy: 100.0%\n",
      "Minibatch loss at step 1500: 0.717538\n",
      "Minibatch accuracy: 100.0%\n",
      "Minibatch loss at step 2000: 0.463403\n",
      "Minibatch accuracy: 100.0%\n",
      "Minibatch loss at step 2500: 0.310883\n",
      "Minibatch accuracy: 100.0%\n",
      "Minibatch loss at step 3000: 0.219443\n",
      "Minibatch accuracy: 100.0%\n",
      "Validation accuracy: 73.1%\n",
      "Test accuracy: 81.0%\n"
     ]
    }
   ],
   "source": [
    "chunk = 5\n",
    "tiny_train, tiny_labels = train_dataset[:chunk*batch_size], train_labels[:chunk*batch_size]\n",
    "\n",
    "num_steps = 3001\n",
    "with tf.Session(graph=graph) as session:\n",
    "    tf.global_variables_initializer().run()\n",
    "    print(\"Initialized\")\n",
    "    for step in range(num_steps):\n",
    "        offset = (step * batch_size) % (tiny_labels.shape[0] - batch_size)\n",
    "        \n",
    "        batch_data = tiny_train[offset:(offset + batch_size), :]\n",
    "        batch_labels = tiny_labels[offset:(offset + batch_size), :]\n",
    "        \n",
    "        feed_dict = {train : batch_data, labels : batch_labels}        \n",
    "        _, l, predictions = session.run([optimizer, loss, train_prediction], feed_dict=feed_dict)\n",
    "        if (step % 500 == 0):\n",
    "            print(\"Minibatch loss at step %d: %f\" % (step, l))\n",
    "            print(\"Minibatch accuracy: %.1f%%\" % accuracy(predictions, batch_labels))\n",
    "    print(\"Validation accuracy: %.1f%%\" % accuracy(valid_prediction.eval(), valid_labels))\n",
    "    print(\"Test accuracy: %.1f%%\" % accuracy(test_prediction.eval(), test_labels))"
   ]
  },
  {
   "cell_type": "markdown",
   "metadata": {},
   "source": [
    "Typical overfitting: $100\\%$ accuracy on train and much lower on valid & test."
   ]
  },
  {
   "cell_type": "markdown",
   "metadata": {
    "colab_type": "text",
    "id": "ww3SCBUdlkRc"
   },
   "source": [
    "---\n",
    "Problem 3\n",
    "---------\n",
    "Introduce Dropout on the hidden layer of the neural network. Remember: Dropout should only be introduced during training, not evaluation, otherwise your evaluation results would be stochastic as well. TensorFlow provides `nn.dropout()` for that, but you have to make sure it's only inserted during training.\n",
    "\n",
    "What happens to our extreme overfitting case?\n",
    "\n",
    "---"
   ]
  },
  {
   "cell_type": "code",
   "execution_count": 22,
   "metadata": {
    "collapsed": true,
    "scrolled": false
   },
   "outputs": [],
   "source": [
    "d_h = 1024\n",
    "\n",
    "graph = tf.Graph()\n",
    "with graph.as_default():\n",
    "    train = tf.placeholder(tf.float32, (batch_size, image_size * image_size))\n",
    "    labels = tf.placeholder(tf.float32, (batch_size, num_labels))\n",
    "    keep_prob = tf.placeholder_with_default(1., shape=())\n",
    "    \n",
    "    valid = tf.constant(valid_dataset)\n",
    "    test = tf.constant(test_dataset)\n",
    "    \n",
    "    w1 = tf.Variable(tf.truncated_normal([image_size * image_size, d_h]))\n",
    "    b1 = tf.Variable(tf.zeros([d_h]))\n",
    "    \n",
    "    w2 = tf.Variable(tf.truncated_normal([d_h, num_labels]))\n",
    "    b2 = tf.Variable(tf.zeros([num_labels]))\n",
    "    \n",
    "    def model(data):        \n",
    "        dense_relu = tf.nn.relu(tf.matmul(data, w1) + b1)\n",
    "        dropout = tf.nn.dropout(dense_relu, keep_prob)\n",
    "        return tf.matmul(dropout, w2) + b2  \n",
    "    \n",
    "    logits = model(train)\n",
    "    loss = tf.reduce_mean(tf.nn.softmax_cross_entropy_with_logits(logits=logits, labels=labels))\n",
    "    \n",
    "    optimizer = tf.train.GradientDescentOptimizer(0.5).minimize(loss)\n",
    "    \n",
    "    train_prediction = tf.nn.softmax(logits)\n",
    "    valid_prediction = tf.nn.softmax(model(valid))\n",
    "    test_prediction = tf.nn.softmax(model(test))"
   ]
  },
  {
   "cell_type": "markdown",
   "metadata": {},
   "source": [
    "We use $keep\\_prob = p$ during _training_ and $keep\\_prob = 1$ during _test_."
   ]
  },
  {
   "cell_type": "code",
   "execution_count": 24,
   "metadata": {
    "collapsed": true
   },
   "outputs": [],
   "source": [
    "nb_steps = 3001\n",
    "def dropout(p):\n",
    "    with tf.Session(graph=graph) as session:\n",
    "        tf.global_variables_initializer().run()\n",
    "        print('initialized')\n",
    "        for step in range(nb_steps):\n",
    "            # Pick an offset within the training data, which has been randomized.\n",
    "            # Note: we could use better randomization across epochs.\n",
    "            offset = (step * batch_size) % (tiny_labels.shape[0] - batch_size)\n",
    "            # Generate a minibatch.\n",
    "            batch_data = tiny_train[offset:(offset + batch_size), :]\n",
    "            batch_labels = tiny_labels[offset:(offset + batch_size), :]\n",
    "            # Prepare a dictionary telling the session where to feed the minibatch.\n",
    "            # The key of the dictionary is the placeholder node of the graph to be fed,\n",
    "            # and the value is the numpy array to feed to it.\n",
    "            train_feed_dict = {train : batch_data, labels : batch_labels, keep_prob : p}\n",
    "            _, l, predictions = session.run([optimizer, loss, train_prediction], feed_dict=train_feed_dict)\n",
    "            if (step % 500 == 0):\n",
    "                print(\"Minibatch loss at step %d: %f\" % (step, l))\n",
    "                print(\"Minibatch accuracy: %.1f%%\" % accuracy(predictions, batch_labels))\n",
    "\n",
    "        test_feed_dict = {train : batch_data, labels : batch_labels, keep_prob : 1}\n",
    "        print(\"Validation accuracy: %.1f%%\" % accuracy(valid_prediction.eval(test_feed_dict), valid_labels))\n",
    "        print(\"Test accuracy: %.1f%%\" % accuracy(test_prediction.eval(test_feed_dict), test_labels))"
   ]
  },
  {
   "cell_type": "markdown",
   "metadata": {},
   "source": [
    "No dropout:"
   ]
  },
  {
   "cell_type": "code",
   "execution_count": 25,
   "metadata": {},
   "outputs": [
    {
     "name": "stdout",
     "output_type": "stream",
     "text": [
      "initialized\n",
      "Minibatch loss at step 0: 311.628967\n",
      "Minibatch accuracy: 14.8%\n",
      "Minibatch loss at step 500: 0.000000\n",
      "Minibatch accuracy: 100.0%\n",
      "Minibatch loss at step 1000: 0.000000\n",
      "Minibatch accuracy: 100.0%\n",
      "Minibatch loss at step 1500: 0.000000\n",
      "Minibatch accuracy: 100.0%\n",
      "Minibatch loss at step 2000: 0.000000\n",
      "Minibatch accuracy: 100.0%\n",
      "Minibatch loss at step 2500: 0.000000\n",
      "Minibatch accuracy: 100.0%\n",
      "Minibatch loss at step 3000: 0.000000\n",
      "Minibatch accuracy: 100.0%\n",
      "Validation accuracy: 75.7%\n",
      "Test accuracy: 82.8%\n"
     ]
    }
   ],
   "source": [
    "dropout(1)"
   ]
  },
  {
   "cell_type": "markdown",
   "metadata": {},
   "source": [
    "Proper dropout:"
   ]
  },
  {
   "cell_type": "code",
   "execution_count": 26,
   "metadata": {},
   "outputs": [
    {
     "name": "stdout",
     "output_type": "stream",
     "text": [
      "initialized\n",
      "Minibatch loss at step 0: 490.222534\n",
      "Minibatch accuracy: 13.3%\n",
      "Minibatch loss at step 500: 0.000000\n",
      "Minibatch accuracy: 100.0%\n",
      "Minibatch loss at step 1000: 0.349846\n",
      "Minibatch accuracy: 99.2%\n",
      "Minibatch loss at step 1500: 0.000000\n",
      "Minibatch accuracy: 100.0%\n",
      "Minibatch loss at step 2000: 0.000000\n",
      "Minibatch accuracy: 100.0%\n",
      "Minibatch loss at step 2500: 0.000000\n",
      "Minibatch accuracy: 100.0%\n",
      "Minibatch loss at step 3000: 0.000000\n",
      "Minibatch accuracy: 100.0%\n",
      "Validation accuracy: 77.6%\n",
      "Test accuracy: 85.0%\n"
     ]
    }
   ],
   "source": [
    "dropout(0.5)"
   ]
  },
  {
   "cell_type": "markdown",
   "metadata": {},
   "source": [
    "Significantly better."
   ]
  },
  {
   "cell_type": "markdown",
   "metadata": {
    "colab_type": "text",
    "id": "-b1hTz3VWZjw"
   },
   "source": [
    "---\n",
    "Problem 4\n",
    "---------\n",
    "\n",
    "Try to get the best performance you can using a multi-layer model! The best reported test accuracy using a deep network is [97.1%](http://yaroslavvb.blogspot.com/2011/09/notmnist-dataset.html?showComment=1391023266211#c8758720086795711595).\n",
    "\n",
    "One avenue you can explore is to add multiple layers.\n",
    "\n",
    "Another one is to use learning rate decay:\n",
    "\n",
    "    global_step = tf.Variable(0)  # count the number of steps taken.\n",
    "    learning_rate = tf.train.exponential_decay(0.5, global_step, ...)\n",
    "    optimizer = tf.train.GradientDescentOptimizer(learning_rate).minimize(loss, global_step=global_step)\n",
    " \n",
    " ---\n"
   ]
  },
  {
   "cell_type": "code",
   "execution_count": 27,
   "metadata": {
    "collapsed": true
   },
   "outputs": [],
   "source": [
    "d_h1 = 1024\n",
    "d_h2 = 128\n",
    "\n",
    "graph = tf.Graph()\n",
    "with graph.as_default():\n",
    "    train = tf.placeholder(tf.float32, (batch_size, image_size * image_size))\n",
    "    labels = tf.placeholder(tf.float32, (batch_size, num_labels))\n",
    "    keep_prob = tf.placeholder_with_default(1., shape=())\n",
    "    valid = tf.constant(valid_dataset)\n",
    "    test = tf.constant(test_dataset)\n",
    "    \n",
    "    global_step = tf.Variable(0, trainable=False)\n",
    "    starter_learning_rate = 0.5\n",
    "    learning_rate = tf.train.exponential_decay(starter_learning_rate, global_step, 1000, 0.96)\n",
    "    \n",
    "    w1 = tf.Variable(tf.truncated_normal([image_size * image_size, d_h1]))\n",
    "    b1 = tf.Variable(tf.zeros([d_h1]))\n",
    "    \n",
    "    w2 = tf.Variable(tf.truncated_normal([d_h1, d_h2]))\n",
    "    b2 = tf.Variable(tf.zeros([d_h2]))  \n",
    "    \n",
    "    w3 = tf.Variable(tf.truncated_normal([d_h2, num_labels]))\n",
    "    b3 = tf.Variable(tf.zeros([num_labels]))\n",
    "    \n",
    "    def model(data):        \n",
    "        dense_relu = tf.nn.relu(tf.matmul(data, w1) + b1)\n",
    "        dropout = tf.nn.dropout(dense_relu, keep_prob)        \n",
    "        dense_tanh = tf.nn.tanh(tf.matmul(dropout, w2) + b2)\n",
    "        dropout = tf.nn.dropout(dense_tanh, keep_prob)  \n",
    "        return tf.matmul(dropout, w3) + b3\n",
    "    \n",
    "    logits = model(train)\n",
    "    loss = tf.reduce_mean(tf.nn.softmax_cross_entropy_with_logits(logits=logits, labels=labels))\n",
    "    \n",
    "    optimizer = tf.train.GradientDescentOptimizer(learning_rate).minimize(loss, global_step=global_step)\n",
    "    \n",
    "    train_prediction = tf.nn.softmax(logits)    \n",
    "    valid_prediction = tf.nn.softmax(model(valid))    \n",
    "    test_prediction = tf.nn.softmax(model(test))"
   ]
  },
  {
   "cell_type": "code",
   "execution_count": 28,
   "metadata": {
    "scrolled": true
   },
   "outputs": [
    {
     "name": "stdout",
     "output_type": "stream",
     "text": [
      "initialized\n",
      "Minibatch loss at step 0: 21.785908\n",
      "Minibatch accuracy: 11.7%\n",
      "Minibatch loss at step 5000: 0.953093\n",
      "Minibatch accuracy: 69.5%\n",
      "Minibatch loss at step 10000: 0.799820\n",
      "Minibatch accuracy: 74.2%\n",
      "Minibatch loss at step 15000: 0.948812\n",
      "Minibatch accuracy: 72.7%\n",
      "Minibatch loss at step 20000: 0.809746\n",
      "Minibatch accuracy: 78.9%\n",
      "Minibatch loss at step 25000: 0.915183\n",
      "Minibatch accuracy: 75.8%\n",
      "Minibatch loss at step 30000: 0.708137\n",
      "Minibatch accuracy: 79.7%\n",
      "Minibatch loss at step 35000: 0.834710\n",
      "Minibatch accuracy: 75.0%\n",
      "Minibatch loss at step 40000: 0.851641\n",
      "Minibatch accuracy: 75.0%\n",
      "Minibatch loss at step 45000: 0.782453\n",
      "Minibatch accuracy: 78.9%\n",
      "Minibatch loss at step 50000: 0.688970\n",
      "Minibatch accuracy: 79.7%\n",
      "Minibatch loss at step 55000: 0.897315\n",
      "Minibatch accuracy: 76.6%\n",
      "Minibatch loss at step 60000: 0.738253\n",
      "Minibatch accuracy: 77.3%\n",
      "Minibatch loss at step 65000: 0.785083\n",
      "Minibatch accuracy: 78.9%\n",
      "Minibatch loss at step 70000: 0.613519\n",
      "Minibatch accuracy: 84.4%\n",
      "Minibatch loss at step 75000: 0.894108\n",
      "Minibatch accuracy: 75.8%\n",
      "Minibatch loss at step 80000: 0.707003\n",
      "Minibatch accuracy: 79.7%\n",
      "Minibatch loss at step 85000: 0.703151\n",
      "Minibatch accuracy: 81.2%\n",
      "Minibatch loss at step 90000: 0.833156\n",
      "Minibatch accuracy: 74.2%\n",
      "Minibatch loss at step 95000: 0.833667\n",
      "Minibatch accuracy: 78.9%\n",
      "Minibatch loss at step 100000: 0.696200\n",
      "Minibatch accuracy: 81.2%\n",
      "Validation accuracy: 83.6%\n",
      "Test accuracy: 89.9%\n"
     ]
    }
   ],
   "source": [
    "nb_steps = 101337\n",
    "\n",
    "with tf.Session(graph=graph) as session:\n",
    "    tf.global_variables_initializer().run()\n",
    "    print('initialized')\n",
    "    for step in range(nb_steps):\n",
    "        offset = (step * batch_size) % (train_dataset.shape[0] - batch_size)\n",
    "        batch_data = train_dataset[offset:(offset + batch_size), :]\n",
    "        batch_labels = train_labels[offset:(offset + batch_size), :]\n",
    "        train_feed_dict = {train : batch_data, labels : batch_labels, keep_prob : 0.5}\n",
    "        _, l, predictions = session.run([optimizer, loss, train_prediction], feed_dict=train_feed_dict)\n",
    "        if (step % 5000 == 0):\n",
    "            print(\"Minibatch loss at step %d: %f\" % (step, l))\n",
    "            print(\"Minibatch accuracy: %.1f%%\" % accuracy(predictions, batch_labels))\n",
    "\n",
    "    test_feed_dict = {train : batch_data, labels : batch_labels, keep_prob : 1.}\n",
    "    print(\"Validation accuracy: %.1f%%\" % accuracy(valid_prediction.eval(test_feed_dict), valid_labels))\n",
    "    print(\"Test accuracy: %.1f%%\" % accuracy(test_prediction.eval(test_feed_dict), test_labels))"
   ]
  }
 ],
 "metadata": {
  "colab": {
   "default_view": {},
   "name": "3_regularization.ipynb",
   "provenance": [],
   "version": "0.3.2",
   "views": {}
  },
  "kernelspec": {
   "display_name": "Python 3",
   "language": "python",
   "name": "python3"
  },
  "language_info": {
   "codemirror_mode": {
    "name": "ipython",
    "version": 3
   },
   "file_extension": ".py",
   "mimetype": "text/x-python",
   "name": "python",
   "nbconvert_exporter": "python",
   "pygments_lexer": "ipython3",
   "version": "3.6.2"
  }
 },
 "nbformat": 4,
 "nbformat_minor": 1
}
